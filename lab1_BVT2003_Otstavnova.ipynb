{
 "cells": [
  {
   "cell_type": "markdown",
   "metadata": {},
   "source": [
    "# Лабораторная работа №1\n",
    "## Выполнил студент группы БВТ2003 Отставнова Ксения\n",
    "### Задание №1\n",
    "Создать ячейку и написать в ней print(\"Hello, World!\")"
   ]
  },
  {
   "cell_type": "code",
   "execution_count": 9,
   "metadata": {},
   "outputs": [
    {
     "name": "stdout",
     "output_type": "stream",
     "text": [
      "Hello, World!\n"
     ]
    }
   ],
   "source": [
    "print(\"Hello, World!\")"
   ]
  },
  {
   "cell_type": "markdown",
   "metadata": {},
   "source": [
    "### Задание №2\n",
    "Написать генератор случайных матриц(многомерных), который принимает опциональные параметры m, n, min_limit, max_limit, где m и n указывают размер матрицы, а min_limit и max_limit - минимальное и максимальное значение для генерируемого числа."
   ]
  },
  {
   "cell_type": "code",
   "execution_count": 10,
   "metadata": {},
   "outputs": [],
   "source": [
    "import random"
   ]
  },
  {
   "cell_type": "code",
   "execution_count": 11,
   "metadata": {},
   "outputs": [],
   "source": [
    "m=int(input())\n",
    "n=int(input())\n",
    "min_limit=int(input())\n",
    "max_limit=int(input())"
   ]
  },
  {
   "cell_type": "code",
   "execution_count": 12,
   "metadata": {},
   "outputs": [],
   "source": [
    "def generete(m=50,n=50,min_limit=-250,max_limit=1012):\n",
    "    A = [ [0]*n for i in range(m) ]\n",
    "    for i in range(m):\n",
    "        for j in range(n):\n",
    "            A[i][j] = random.randint(min_limit, max_limit)\n",
    "    return A"
   ]
  },
  {
   "cell_type": "markdown",
   "metadata": {},
   "source": [
    "### Задание №3\n",
    "Реализовать методы сортировки строк числовой матрицы в соответствии с заданием. Оценить время работы каждого алгоритма сортировки и сравнить его со временем стандартной функции сортировки. Испытания проводить на сгенерированных матрицах."
   ]
  },
  {
   "cell_type": "markdown",
   "metadata": {},
   "source": [
    "### Задание №3.1 (Сортировка выбором)"
   ]
  },
  {
   "cell_type": "code",
   "execution_count": 17,
   "metadata": {},
   "outputs": [],
   "source": [
    "def sel_sort(arr):\n",
    "    for n in range(len(arr)):\n",
    "        i=0\n",
    "        while i < len(arr[0]) - 1:\n",
    "            m = i\n",
    "            j = i + 1\n",
    "            while j < len(arr[0]):\n",
    "                if arr[n][j] < arr[n][m]:\n",
    "                    m = j\n",
    "                j += 1\n",
    "            arr[n][i], arr[n][m] = arr[n][m], arr[n][i]\n",
    "            i += 1\n",
    "    return arr"
   ]
  },
  {
   "cell_type": "markdown",
   "metadata": {},
   "source": [
    "### Задание №3.2 (Сортировка вставкой)"
   ]
  },
  {
   "cell_type": "code",
   "execution_count": 16,
   "metadata": {},
   "outputs": [],
   "source": [
    "def ins_sort(arr):\n",
    "    for n in range(len(arr)):\n",
    "        for i in range(1, len(arr[0])):\n",
    "            k = arr[n][i]\n",
    "            j = i-1\n",
    "            while j >=0 and k < arr[n][j] :\n",
    "                arr[n][j+1] = arr[n][j]\n",
    "                j -= 1\n",
    "            arr[n][j+1] = k \n",
    "    return arr"
   ]
  },
  {
   "cell_type": "markdown",
   "metadata": {},
   "source": [
    "### Задание №3.3 (Сортировка обменом/Пузырьковая сортировка)"
   ]
  },
  {
   "cell_type": "code",
   "execution_count": 15,
   "metadata": {},
   "outputs": [],
   "source": [
    "def bbl(arr):\n",
    "    for n in range(len(arr)):\n",
    "        i=0\n",
    "        while i < len(arr[0]) - 1:\n",
    "            j = 0\n",
    "            while j < len(arr[0]) - 1 - i:\n",
    "                if arr[n][j] > arr[n][j+1]:\n",
    "                    arr[n][j], arr[n][j+1] = arr[n][j+1], arr[n][j]\n",
    "                j += 1\n",
    "            i += 1\n",
    "    return arr"
   ]
  },
  {
   "cell_type": "markdown",
   "id": "edb115ca",
   "metadata": {},
   "source": [
    "### Задание №3.4 (Сортировка Шелла)"
   ]
  },
  {
   "cell_type": "code",
   "execution_count": 18,
   "metadata": {},
   "outputs": [],
   "source": [
    "def shell(arr):\n",
    "    for n in range(len(arr)):\n",
    "        step = len(arr[0]) // 2\n",
    "        while step > 0:\n",
    "            for m in range(step, len(arr[0])):\n",
    "                val = arr[n][m]\n",
    "                pos = m\n",
    "                while pos >=step and arr[n][pos - step] > val:\n",
    "                    arr[n][pos] = arr[n][pos - step]\n",
    "                    pos -= step\n",
    "                    arr[n][pos] = val\n",
    "            step //= 2\n",
    "    return arr"
   ]
  },
  {
   "cell_type": "markdown",
   "metadata": {},
   "source": [
    "### Задание 3.5 (Турнирная сортировка)"
   ]
  },
  {
   "cell_type": "code",
   "execution_count": null,
   "metadata": {},
   "outputs": [],
   "source": [
    "def tour(arr):\n",
    "        if len(arr)>1:\n",
    "            mid = len(arr)//2\n",
    "            lefth = arr[:mid]\n",
    "            righth = arr[mid:]\n",
    "\n",
    "            tour(lefth)\n",
    "            tour(righth)\n",
    "            i, j, k=0\n",
    "            while i<len(lefth) and j<len(righth):\n",
    "                if lefth[i]<righth[j]:\n",
    "                    arr[k]=lefth[i]\n",
    "                    i+=1\n",
    "                else:\n",
    "                    arr[k]=righth[j]\n",
    "                    j+=1\n",
    "                k+=1\n",
    "            while i<len(lefth):\n",
    "                arr[k]=lefth[i]\n",
    "                i+=1\n",
    "                k+=1\n",
    "            while j<len(righth):\n",
    "                arr[k]=righth[j]\n",
    "                j+=1\n",
    "                k+=1"
   ]
  },
  {
   "cell_type": "markdown",
   "metadata": {},
   "source": [
    "### Задание 3.6 (Быстрая сортировка)"
   ]
  },
  {
   "cell_type": "code",
   "execution_count": null,
   "metadata": {},
   "outputs": [],
   "source": [
    "def quick(arr):\n",
    "   if len(arr) <= 1:\n",
    "       return arr\n",
    "   else:\n",
    "       q = random.choice(arr)\n",
    "   l = [n for n in arr if n < q]\n",
    " \n",
    "   e = [q] * arr.count(q)\n",
    "   b = [n for n in arr if n > q]\n",
    "   return quick(l) + e + quick(b)"
   ]
  },
  {
   "cell_type": "markdown",
   "metadata": {},
   "source": [
    "### Задание 3.7 (Пирамидальная сортировка)"
   ]
  },
  {
   "cell_type": "code",
   "execution_count": 19,
   "metadata": {},
   "outputs": [],
   "source": [
    "def heap(arr, min, max):\n",
    "    larg = max\n",
    "    l = 2 * max + 1\n",
    "    r = 2 * max + 2\n",
    "    if l < min and arr[max] < arr[l]:\n",
    "        larg = l\n",
    "    if r < min and arr[larg] < arr[r]:\n",
    "        larg = r\n",
    "    if larg != max:\n",
    "        arr[max],arr[larg] = arr[larg],arr[max]\n",
    "        heap(arr, min, larg)\n",
    "\n",
    "def sort(arr):\n",
    "    n = len(arr)\n",
    "    for i in range(n, -1, -1):\n",
    "        heap(arr, n, i)\n",
    "    for i in range(n-1, 0, -1):\n",
    "        arr[i], arr[0] = arr[0], arr[i]\n",
    "        heap(arr, i, 0)"
   ]
  },
  {
   "cell_type": "markdown",
   "metadata": {},
   "source": [
    "### Вывод\n",
    "##### Сортировка выбором: лучшее время - O(n^2), худшее O(n^2), время при выполнении - 1.2244019508\n",
    "##### Сортировка вставками: лучшее время - O(n), худшее O(n^2), время при выполнении - 1.5936298370\n",
    "##### Сортировка пузырьком: лучшее время - O(n), худшее O(n^2), время при выполнении - 4.9164218902\n",
    "##### Сортировка Шелла: лучшее время - O(nlog^2(n)), худшее O(n^2), время при выполнении - 0.0500540945\n",
    "##### Сортировка турнирная: лучшее время - O(nlog(n)), худшее O(nlog(n)), время при выполнении - 0.0400667190\n",
    "##### Сортировка быстрая: лучшее время - O(nlog(n)), худшее O(n^2), время при выполнении - 0.0163919925\n",
    "##### Сортировка пирамидальная: лучшее время - O(nlog(n)), худшее O(nlog(n)), время при выполнении - 0.0261991024\n",
    "##### Сортировка по умолчанию в Python: время при выполнении - 0.0098344837\n",
    "##### Стандартная сортировка показала себя как самая быстрая"
   ]
  }
 ],
 "metadata": {
  "interpreter": {
   "hash": "66b99891c3632faa86422065f606838634a0aa617f60dadd14c6308b38a43279"
  },
  "kernelspec": {
   "display_name": "Python 3.10.4 64-bit",
   "language": "python",
   "name": "python3"
  },
  "language_info": {
   "codemirror_mode": {
    "name": "ipython",
    "version": 3
   },
   "file_extension": ".py",
   "mimetype": "text/x-python",
   "name": "python",
   "nbconvert_exporter": "python",
   "pygments_lexer": "ipython3",
   "version": "3.10.4"
  },
  "orig_nbformat": 4
 },
 "nbformat": 4,
 "nbformat_minor": 2
}
